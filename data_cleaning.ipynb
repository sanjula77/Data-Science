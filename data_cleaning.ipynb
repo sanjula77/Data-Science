{
 "cells": [
  {
   "cell_type": "code",
   "execution_count": 24,
   "id": "bec194ae",
   "metadata": {},
   "outputs": [],
   "source": [
    "import pandas as pd\n",
    "import matplotlib.pyplot as plt"
   ]
  },
  {
   "cell_type": "markdown",
   "id": "5b8a1b7c",
   "metadata": {},
   "source": [
    "### Dataset Overview"
   ]
  },
  {
   "cell_type": "code",
   "execution_count": 25,
   "id": "2e789c62",
   "metadata": {},
   "outputs": [],
   "source": [
    "# read csv file\n",
    "df_netflix = pd.read_csv('./datasets/netflix_titles.csv')"
   ]
  },
  {
   "cell_type": "code",
   "execution_count": 26,
   "id": "c89bbdf6",
   "metadata": {},
   "outputs": [
    {
     "data": {
      "text/plain": [
       "show_id         object\n",
       "type            object\n",
       "title           object\n",
       "director        object\n",
       "cast            object\n",
       "country         object\n",
       "date_added      object\n",
       "release_year     int64\n",
       "rating          object\n",
       "duration        object\n",
       "listed_in       object\n",
       "description     object\n",
       "dtype: object"
      ]
     },
     "execution_count": 26,
     "metadata": {},
     "output_type": "execute_result"
    }
   ],
   "source": [
    "# data types\n",
    "df_netflix.dtypes"
   ]
  },
  {
   "cell_type": "code",
   "execution_count": 27,
   "id": "3638bbe0",
   "metadata": {},
   "outputs": [
    {
     "data": {
      "text/plain": [
       "(8807, 12)"
      ]
     },
     "execution_count": 27,
     "metadata": {},
     "output_type": "execute_result"
    }
   ],
   "source": [
    "# shape of dataframe\n",
    "df_netflix.shape"
   ]
  },
  {
   "cell_type": "markdown",
   "id": "ecb0ac35",
   "metadata": {},
   "source": [
    "### Identifying Missing Data"
   ]
  },
  {
   "cell_type": "code",
   "execution_count": 28,
   "id": "d91339cf",
   "metadata": {},
   "outputs": [
    {
     "data": {
      "text/plain": [
       "director        2634\n",
       "country          831\n",
       "cast             825\n",
       "date_added        10\n",
       "rating             4\n",
       "duration           3\n",
       "show_id            0\n",
       "type               0\n",
       "title              0\n",
       "release_year       0\n",
       "listed_in          0\n",
       "description        0\n",
       "dtype: int64"
      ]
     },
     "execution_count": 28,
     "metadata": {},
     "output_type": "execute_result"
    }
   ],
   "source": [
    "# number of rows missing in each column\n",
    "df_netflix.isnull().sum().sort_values(ascending=False)"
   ]
  },
  {
   "cell_type": "code",
   "execution_count": 29,
   "id": "98ed1e85",
   "metadata": {},
   "outputs": [
    {
     "name": "stdout",
     "output_type": "stream",
     "text": [
      "show_id: 0.0%\n",
      "type: 0.0%\n",
      "title: 0.0%\n",
      "director: 29.91%\n",
      "cast: 9.37%\n",
      "country: 9.44%\n",
      "date_added: 0.11%\n",
      "release_year: 0.0%\n",
      "rating: 0.05%\n",
      "duration: 0.03%\n",
      "listed_in: 0.0%\n",
      "description: 0.0%\n"
     ]
    }
   ],
   "source": [
    "# % of rows missing in each column\n",
    "for column in df_netflix.columns:\n",
    "    percentage = df_netflix[column].isnull().mean()\n",
    "    print(f'{column}: {round(percentage*100, 2)}%')"
   ]
  },
  {
   "cell_type": "markdown",
   "id": "242d9619",
   "metadata": {},
   "source": [
    "### Dealing with missing data"
   ]
  },
  {
   "cell_type": "code",
   "execution_count": 30,
   "id": "421eec2b",
   "metadata": {},
   "outputs": [
    {
     "data": {
      "text/html": [
       "<div>\n",
       "<style scoped>\n",
       "    .dataframe tbody tr th:only-of-type {\n",
       "        vertical-align: middle;\n",
       "    }\n",
       "\n",
       "    .dataframe tbody tr th {\n",
       "        vertical-align: top;\n",
       "    }\n",
       "\n",
       "    .dataframe thead th {\n",
       "        text-align: right;\n",
       "    }\n",
       "</style>\n",
       "<table border=\"1\" class=\"dataframe\">\n",
       "  <thead>\n",
       "    <tr style=\"text-align: right;\">\n",
       "      <th></th>\n",
       "      <th>show_id</th>\n",
       "      <th>type</th>\n",
       "      <th>title</th>\n",
       "      <th>director</th>\n",
       "      <th>cast</th>\n",
       "      <th>country</th>\n",
       "      <th>date_added</th>\n",
       "      <th>release_year</th>\n",
       "      <th>rating</th>\n",
       "      <th>duration</th>\n",
       "      <th>listed_in</th>\n",
       "      <th>description</th>\n",
       "    </tr>\n",
       "  </thead>\n",
       "  <tbody>\n",
       "    <tr>\n",
       "      <th>0</th>\n",
       "      <td>s1</td>\n",
       "      <td>Movie</td>\n",
       "      <td>Dick Johnson Is Dead</td>\n",
       "      <td>Kirsten Johnson</td>\n",
       "      <td>NaN</td>\n",
       "      <td>United States</td>\n",
       "      <td>September 25, 2021</td>\n",
       "      <td>2020</td>\n",
       "      <td>PG-13</td>\n",
       "      <td>90 min</td>\n",
       "      <td>Documentaries</td>\n",
       "      <td>As her father nears the end of his life, filmm...</td>\n",
       "    </tr>\n",
       "    <tr>\n",
       "      <th>2</th>\n",
       "      <td>s3</td>\n",
       "      <td>TV Show</td>\n",
       "      <td>Ganglands</td>\n",
       "      <td>Julien Leclercq</td>\n",
       "      <td>Sami Bouajila, Tracy Gotoas, Samuel Jouy, Nabi...</td>\n",
       "      <td>NaN</td>\n",
       "      <td>September 24, 2021</td>\n",
       "      <td>2021</td>\n",
       "      <td>TV-MA</td>\n",
       "      <td>1 Season</td>\n",
       "      <td>Crime TV Shows, International TV Shows, TV Act...</td>\n",
       "      <td>To protect his family from a powerful drug lor...</td>\n",
       "    </tr>\n",
       "    <tr>\n",
       "      <th>5</th>\n",
       "      <td>s6</td>\n",
       "      <td>TV Show</td>\n",
       "      <td>Midnight Mass</td>\n",
       "      <td>Mike Flanagan</td>\n",
       "      <td>Kate Siegel, Zach Gilford, Hamish Linklater, H...</td>\n",
       "      <td>NaN</td>\n",
       "      <td>September 24, 2021</td>\n",
       "      <td>2021</td>\n",
       "      <td>TV-MA</td>\n",
       "      <td>1 Season</td>\n",
       "      <td>TV Dramas, TV Horror, TV Mysteries</td>\n",
       "      <td>The arrival of a charismatic young priest brin...</td>\n",
       "    </tr>\n",
       "    <tr>\n",
       "      <th>6</th>\n",
       "      <td>s7</td>\n",
       "      <td>Movie</td>\n",
       "      <td>My Little Pony: A New Generation</td>\n",
       "      <td>Robert Cullen, José Luis Ucha</td>\n",
       "      <td>Vanessa Hudgens, Kimiko Glenn, James Marsden, ...</td>\n",
       "      <td>NaN</td>\n",
       "      <td>September 24, 2021</td>\n",
       "      <td>2021</td>\n",
       "      <td>PG</td>\n",
       "      <td>91 min</td>\n",
       "      <td>Children &amp; Family Movies</td>\n",
       "      <td>Equestria's divided. But a bright-eyed hero be...</td>\n",
       "    </tr>\n",
       "    <tr>\n",
       "      <th>7</th>\n",
       "      <td>s8</td>\n",
       "      <td>Movie</td>\n",
       "      <td>Sankofa</td>\n",
       "      <td>Haile Gerima</td>\n",
       "      <td>Kofi Ghanaba, Oyafunmike Ogunlano, Alexandra D...</td>\n",
       "      <td>United States, Ghana, Burkina Faso, United Kin...</td>\n",
       "      <td>September 24, 2021</td>\n",
       "      <td>1993</td>\n",
       "      <td>TV-MA</td>\n",
       "      <td>125 min</td>\n",
       "      <td>Dramas, Independent Movies, International Movies</td>\n",
       "      <td>On a photo shoot in Ghana, an American model s...</td>\n",
       "    </tr>\n",
       "    <tr>\n",
       "      <th>...</th>\n",
       "      <td>...</td>\n",
       "      <td>...</td>\n",
       "      <td>...</td>\n",
       "      <td>...</td>\n",
       "      <td>...</td>\n",
       "      <td>...</td>\n",
       "      <td>...</td>\n",
       "      <td>...</td>\n",
       "      <td>...</td>\n",
       "      <td>...</td>\n",
       "      <td>...</td>\n",
       "      <td>...</td>\n",
       "    </tr>\n",
       "    <tr>\n",
       "      <th>8801</th>\n",
       "      <td>s8802</td>\n",
       "      <td>Movie</td>\n",
       "      <td>Zinzana</td>\n",
       "      <td>Majid Al Ansari</td>\n",
       "      <td>Ali Suliman, Saleh Bakri, Yasa, Ali Al-Jabri, ...</td>\n",
       "      <td>United Arab Emirates, Jordan</td>\n",
       "      <td>March 9, 2016</td>\n",
       "      <td>2015</td>\n",
       "      <td>TV-MA</td>\n",
       "      <td>96 min</td>\n",
       "      <td>Dramas, International Movies, Thrillers</td>\n",
       "      <td>Recovering alcoholic Talal wakes up inside a s...</td>\n",
       "    </tr>\n",
       "    <tr>\n",
       "      <th>8802</th>\n",
       "      <td>s8803</td>\n",
       "      <td>Movie</td>\n",
       "      <td>Zodiac</td>\n",
       "      <td>David Fincher</td>\n",
       "      <td>Mark Ruffalo, Jake Gyllenhaal, Robert Downey J...</td>\n",
       "      <td>United States</td>\n",
       "      <td>November 20, 2019</td>\n",
       "      <td>2007</td>\n",
       "      <td>R</td>\n",
       "      <td>158 min</td>\n",
       "      <td>Cult Movies, Dramas, Thrillers</td>\n",
       "      <td>A political cartoonist, a crime reporter and a...</td>\n",
       "    </tr>\n",
       "    <tr>\n",
       "      <th>8804</th>\n",
       "      <td>s8805</td>\n",
       "      <td>Movie</td>\n",
       "      <td>Zombieland</td>\n",
       "      <td>Ruben Fleischer</td>\n",
       "      <td>Jesse Eisenberg, Woody Harrelson, Emma Stone, ...</td>\n",
       "      <td>United States</td>\n",
       "      <td>November 1, 2019</td>\n",
       "      <td>2009</td>\n",
       "      <td>R</td>\n",
       "      <td>88 min</td>\n",
       "      <td>Comedies, Horror Movies</td>\n",
       "      <td>Looking to survive in a world taken over by zo...</td>\n",
       "    </tr>\n",
       "    <tr>\n",
       "      <th>8805</th>\n",
       "      <td>s8806</td>\n",
       "      <td>Movie</td>\n",
       "      <td>Zoom</td>\n",
       "      <td>Peter Hewitt</td>\n",
       "      <td>Tim Allen, Courteney Cox, Chevy Chase, Kate Ma...</td>\n",
       "      <td>United States</td>\n",
       "      <td>January 11, 2020</td>\n",
       "      <td>2006</td>\n",
       "      <td>PG</td>\n",
       "      <td>88 min</td>\n",
       "      <td>Children &amp; Family Movies, Comedies</td>\n",
       "      <td>Dragged from civilian life, a former superhero...</td>\n",
       "    </tr>\n",
       "    <tr>\n",
       "      <th>8806</th>\n",
       "      <td>s8807</td>\n",
       "      <td>Movie</td>\n",
       "      <td>Zubaan</td>\n",
       "      <td>Mozez Singh</td>\n",
       "      <td>Vicky Kaushal, Sarah-Jane Dias, Raaghav Chanan...</td>\n",
       "      <td>India</td>\n",
       "      <td>March 2, 2019</td>\n",
       "      <td>2015</td>\n",
       "      <td>TV-14</td>\n",
       "      <td>111 min</td>\n",
       "      <td>Dramas, International Movies, Music &amp; Musicals</td>\n",
       "      <td>A scrappy but poor boy worms his way into a ty...</td>\n",
       "    </tr>\n",
       "  </tbody>\n",
       "</table>\n",
       "<p>6173 rows × 12 columns</p>\n",
       "</div>"
      ],
      "text/plain": [
       "     show_id     type                             title  \\\n",
       "0         s1    Movie              Dick Johnson Is Dead   \n",
       "2         s3  TV Show                         Ganglands   \n",
       "5         s6  TV Show                     Midnight Mass   \n",
       "6         s7    Movie  My Little Pony: A New Generation   \n",
       "7         s8    Movie                           Sankofa   \n",
       "...      ...      ...                               ...   \n",
       "8801   s8802    Movie                           Zinzana   \n",
       "8802   s8803    Movie                            Zodiac   \n",
       "8804   s8805    Movie                        Zombieland   \n",
       "8805   s8806    Movie                              Zoom   \n",
       "8806   s8807    Movie                            Zubaan   \n",
       "\n",
       "                           director  \\\n",
       "0                   Kirsten Johnson   \n",
       "2                   Julien Leclercq   \n",
       "5                     Mike Flanagan   \n",
       "6     Robert Cullen, José Luis Ucha   \n",
       "7                      Haile Gerima   \n",
       "...                             ...   \n",
       "8801                Majid Al Ansari   \n",
       "8802                  David Fincher   \n",
       "8804                Ruben Fleischer   \n",
       "8805                   Peter Hewitt   \n",
       "8806                    Mozez Singh   \n",
       "\n",
       "                                                   cast  \\\n",
       "0                                                   NaN   \n",
       "2     Sami Bouajila, Tracy Gotoas, Samuel Jouy, Nabi...   \n",
       "5     Kate Siegel, Zach Gilford, Hamish Linklater, H...   \n",
       "6     Vanessa Hudgens, Kimiko Glenn, James Marsden, ...   \n",
       "7     Kofi Ghanaba, Oyafunmike Ogunlano, Alexandra D...   \n",
       "...                                                 ...   \n",
       "8801  Ali Suliman, Saleh Bakri, Yasa, Ali Al-Jabri, ...   \n",
       "8802  Mark Ruffalo, Jake Gyllenhaal, Robert Downey J...   \n",
       "8804  Jesse Eisenberg, Woody Harrelson, Emma Stone, ...   \n",
       "8805  Tim Allen, Courteney Cox, Chevy Chase, Kate Ma...   \n",
       "8806  Vicky Kaushal, Sarah-Jane Dias, Raaghav Chanan...   \n",
       "\n",
       "                                                country          date_added  \\\n",
       "0                                         United States  September 25, 2021   \n",
       "2                                                   NaN  September 24, 2021   \n",
       "5                                                   NaN  September 24, 2021   \n",
       "6                                                   NaN  September 24, 2021   \n",
       "7     United States, Ghana, Burkina Faso, United Kin...  September 24, 2021   \n",
       "...                                                 ...                 ...   \n",
       "8801                       United Arab Emirates, Jordan       March 9, 2016   \n",
       "8802                                      United States   November 20, 2019   \n",
       "8804                                      United States    November 1, 2019   \n",
       "8805                                      United States    January 11, 2020   \n",
       "8806                                              India       March 2, 2019   \n",
       "\n",
       "      release_year rating  duration  \\\n",
       "0             2020  PG-13    90 min   \n",
       "2             2021  TV-MA  1 Season   \n",
       "5             2021  TV-MA  1 Season   \n",
       "6             2021     PG    91 min   \n",
       "7             1993  TV-MA   125 min   \n",
       "...            ...    ...       ...   \n",
       "8801          2015  TV-MA    96 min   \n",
       "8802          2007      R   158 min   \n",
       "8804          2009      R    88 min   \n",
       "8805          2006     PG    88 min   \n",
       "8806          2015  TV-14   111 min   \n",
       "\n",
       "                                              listed_in  \\\n",
       "0                                         Documentaries   \n",
       "2     Crime TV Shows, International TV Shows, TV Act...   \n",
       "5                    TV Dramas, TV Horror, TV Mysteries   \n",
       "6                              Children & Family Movies   \n",
       "7      Dramas, Independent Movies, International Movies   \n",
       "...                                                 ...   \n",
       "8801            Dramas, International Movies, Thrillers   \n",
       "8802                     Cult Movies, Dramas, Thrillers   \n",
       "8804                            Comedies, Horror Movies   \n",
       "8805                 Children & Family Movies, Comedies   \n",
       "8806     Dramas, International Movies, Music & Musicals   \n",
       "\n",
       "                                            description  \n",
       "0     As her father nears the end of his life, filmm...  \n",
       "2     To protect his family from a powerful drug lor...  \n",
       "5     The arrival of a charismatic young priest brin...  \n",
       "6     Equestria's divided. But a bright-eyed hero be...  \n",
       "7     On a photo shoot in Ghana, an American model s...  \n",
       "...                                                 ...  \n",
       "8801  Recovering alcoholic Talal wakes up inside a s...  \n",
       "8802  A political cartoonist, a crime reporter and a...  \n",
       "8804  Looking to survive in a world taken over by zo...  \n",
       "8805  Dragged from civilian life, a former superhero...  \n",
       "8806  A scrappy but poor boy worms his way into a ty...  \n",
       "\n",
       "[6173 rows x 12 columns]"
      ]
     },
     "execution_count": 30,
     "metadata": {},
     "output_type": "execute_result"
    }
   ],
   "source": [
    "# Remove a column or row with .drop, .dropna or .isnull\n",
    "\n",
    "# drop column\n",
    "# df_netflix.drop('director', axis=1)\n",
    "# drop row\n",
    "no_director = df_netflix[df_netflix['director'].isnull()].index\n",
    "df_netflix.drop(no_director, axis=0)\n",
    "# drop row\n",
    "# no_duration = df_netflix[df_netflix['duration'].isnull()].index\n",
    "# df_netflix.drop(no_duration, axis=0, inplace=True)\n",
    "\n",
    "# ~ + .isnull()\n",
    "# df_netflix[~df_netflix['director'].isnull()]\n",
    "\n",
    "# dropna()\n",
    "# df_netflix.dropna(subset=['director'])"
   ]
  },
  {
   "cell_type": "code",
   "execution_count": 31,
   "id": "c5e4f0ff",
   "metadata": {},
   "outputs": [],
   "source": [
    "# Replace it by the mean, median (numeric data) or mode (categorical data)\n",
    "df_netflix[df_netflix['rating'].isnull()]\n",
    "mode = ''.join(df_netflix['rating'].mode())\n",
    "df_netflix['rating'].fillna(mode, inplace=True)"
   ]
  },
  {
   "cell_type": "code",
   "execution_count": 32,
   "id": "eaf3df40",
   "metadata": {},
   "outputs": [
    {
     "data": {
      "text/html": [
       "<div>\n",
       "<style scoped>\n",
       "    .dataframe tbody tr th:only-of-type {\n",
       "        vertical-align: middle;\n",
       "    }\n",
       "\n",
       "    .dataframe tbody tr th {\n",
       "        vertical-align: top;\n",
       "    }\n",
       "\n",
       "    .dataframe thead th {\n",
       "        text-align: right;\n",
       "    }\n",
       "</style>\n",
       "<table border=\"1\" class=\"dataframe\">\n",
       "  <thead>\n",
       "    <tr style=\"text-align: right;\">\n",
       "      <th></th>\n",
       "      <th>show_id</th>\n",
       "      <th>type</th>\n",
       "      <th>title</th>\n",
       "      <th>director</th>\n",
       "      <th>cast</th>\n",
       "      <th>country</th>\n",
       "      <th>date_added</th>\n",
       "      <th>release_year</th>\n",
       "      <th>rating</th>\n",
       "      <th>duration</th>\n",
       "      <th>listed_in</th>\n",
       "      <th>description</th>\n",
       "    </tr>\n",
       "  </thead>\n",
       "  <tbody>\n",
       "    <tr>\n",
       "      <th>5541</th>\n",
       "      <td>s5542</td>\n",
       "      <td>Movie</td>\n",
       "      <td>Louis C.K. 2017</td>\n",
       "      <td>Louis C.K.</td>\n",
       "      <td>Louis C.K.</td>\n",
       "      <td>United States</td>\n",
       "      <td>April 4, 2017</td>\n",
       "      <td>2017</td>\n",
       "      <td>74 min</td>\n",
       "      <td>NaN</td>\n",
       "      <td>Movies</td>\n",
       "      <td>Louis C.K. muses on religion, eternal love, gi...</td>\n",
       "    </tr>\n",
       "    <tr>\n",
       "      <th>5794</th>\n",
       "      <td>s5795</td>\n",
       "      <td>Movie</td>\n",
       "      <td>Louis C.K.: Hilarious</td>\n",
       "      <td>Louis C.K.</td>\n",
       "      <td>Louis C.K.</td>\n",
       "      <td>United States</td>\n",
       "      <td>September 16, 2016</td>\n",
       "      <td>2010</td>\n",
       "      <td>84 min</td>\n",
       "      <td>NaN</td>\n",
       "      <td>Movies</td>\n",
       "      <td>Emmy-winning comedy writer Louis C.K. brings h...</td>\n",
       "    </tr>\n",
       "    <tr>\n",
       "      <th>5813</th>\n",
       "      <td>s5814</td>\n",
       "      <td>Movie</td>\n",
       "      <td>Louis C.K.: Live at the Comedy Store</td>\n",
       "      <td>Louis C.K.</td>\n",
       "      <td>Louis C.K.</td>\n",
       "      <td>United States</td>\n",
       "      <td>August 15, 2016</td>\n",
       "      <td>2015</td>\n",
       "      <td>66 min</td>\n",
       "      <td>NaN</td>\n",
       "      <td>Movies</td>\n",
       "      <td>The comic puts his trademark hilarious/thought...</td>\n",
       "    </tr>\n",
       "  </tbody>\n",
       "</table>\n",
       "</div>"
      ],
      "text/plain": [
       "     show_id   type                                 title    director  \\\n",
       "5541   s5542  Movie                       Louis C.K. 2017  Louis C.K.   \n",
       "5794   s5795  Movie                 Louis C.K.: Hilarious  Louis C.K.   \n",
       "5813   s5814  Movie  Louis C.K.: Live at the Comedy Store  Louis C.K.   \n",
       "\n",
       "            cast        country          date_added  release_year  rating  \\\n",
       "5541  Louis C.K.  United States       April 4, 2017          2017  74 min   \n",
       "5794  Louis C.K.  United States  September 16, 2016          2010  84 min   \n",
       "5813  Louis C.K.  United States     August 15, 2016          2015  66 min   \n",
       "\n",
       "     duration listed_in                                        description  \n",
       "5541      NaN    Movies  Louis C.K. muses on religion, eternal love, gi...  \n",
       "5794      NaN    Movies  Emmy-winning comedy writer Louis C.K. brings h...  \n",
       "5813      NaN    Movies  The comic puts his trademark hilarious/thought...  "
      ]
     },
     "execution_count": 32,
     "metadata": {},
     "output_type": "execute_result"
    }
   ],
   "source": [
    "df_netflix[df_netflix['duration'].isnull()]"
   ]
  },
  {
   "cell_type": "code",
   "execution_count": 33,
   "id": "95d30763",
   "metadata": {},
   "outputs": [
    {
     "data": {
      "text/plain": [
       "show_id                                                     s5542\n",
       "type                                                        Movie\n",
       "title                                             Louis C.K. 2017\n",
       "director                                               Louis C.K.\n",
       "cast                                                   Louis C.K.\n",
       "country                                             United States\n",
       "date_added                                          April 4, 2017\n",
       "release_year                                                 2017\n",
       "rating                                                     74 min\n",
       "duration                                                      NaN\n",
       "listed_in                                                  Movies\n",
       "description     Louis C.K. muses on religion, eternal love, gi...\n",
       "Name: 5541, dtype: object"
      ]
     },
     "execution_count": 33,
     "metadata": {},
     "output_type": "execute_result"
    }
   ],
   "source": [
    "df_netflix.loc[5541]"
   ]
  },
  {
   "cell_type": "code",
   "execution_count": 34,
   "id": "0615a243",
   "metadata": {},
   "outputs": [],
   "source": [
    "# Replace it by an arbitrary number with .fillna()\n",
    "df_netflix['duration'].fillna('0', inplace=True)\n",
    "\n",
    "# backward, forward \n",
    "# df.fillna(method='bfill')\n",
    "# df.fillna(method='ffill')"
   ]
  },
  {
   "cell_type": "code",
   "execution_count": 35,
   "id": "c90574f6",
   "metadata": {},
   "outputs": [
    {
     "name": "stderr",
     "output_type": "stream",
     "text": [
      "c:\\ProgramData\\anaconda3\\envs\\NatureInspierdAlgorithm\\lib\\site-packages\\ipykernel_launcher.py:3: SettingWithCopyWarning: \n",
      "A value is trying to be set on a copy of a slice from a DataFrame.\n",
      "Try using .loc[row_indexer,col_indexer] = value instead\n",
      "\n",
      "See the caveats in the documentation: https://pandas.pydata.org/pandas-docs/stable/user_guide/indexing.html#returning-a-view-versus-a-copy\n",
      "  This is separate from the ipykernel package so we can avoid doing imports until\n"
     ]
    }
   ],
   "source": [
    "# Extracting data from a \"duration\" column with split() and extract() methods\n",
    "df_movie = df_netflix[df_netflix['type'] == 'Movie']\n",
    "df_movie['minit'] = df_movie['duration'].str.split(expand=True)[0].astype(int)"
   ]
  },
  {
   "cell_type": "markdown",
   "id": "2f6ef3b1",
   "metadata": {},
   "source": [
    "### Identifying Outliers"
   ]
  },
  {
   "cell_type": "markdown",
   "id": "48eb71c3",
   "metadata": {},
   "source": [
    "#### Using histrogram to identify outliers withing a niumerical data"
   ]
  },
  {
   "cell_type": "code",
   "execution_count": 36,
   "id": "ef2c6bf1",
   "metadata": {},
   "outputs": [
    {
     "data": {
      "text/plain": [
       "Text(0.5, 1.0, 'Duration of Movies on Netflix')"
      ]
     },
     "execution_count": 36,
     "metadata": {},
     "output_type": "execute_result"
    },
    {
     "data": {
      "image/png": "[encoded data removed]",
      "text/plain": [
       "<Figure size 640x480 with 1 Axes>"
      ]
     },
     "metadata": {},
     "output_type": "display_data"
    }
   ],
   "source": [
    "# Maka a histogram with a pandas\n",
    "df_movie['minit'].plot(kind='hist', bins=10)\n",
    "plt.title('Duration of Movies on Netflix')"
   ]
  },
  {
   "cell_type": "code",
   "execution_count": 37,
   "id": "a07e13d0",
   "metadata": {},
   "outputs": [
    {
     "data": {
      "text/plain": [
       "(-0.313, 31.2]     135\n",
       "(31.2, 62.4]       410\n",
       "(62.4, 93.6]      1867\n",
       "(93.6, 124.8]     2772\n",
       "(124.8, 156.0]     766\n",
       "(156.0, 187.2]     150\n",
       "(187.2, 218.4]      22\n",
       "(218.4, 249.6]       6\n",
       "(249.6, 280.8]       2\n",
       "(280.8, 312.0]       1\n",
       "Name: minit, dtype: int64"
      ]
     },
     "execution_count": 37,
     "metadata": {},
     "output_type": "execute_result"
    }
   ],
   "source": [
    "# Get bar range with .value_counts() and number of bins\n",
    "df_movie['minit'].value_counts(bins=10).sort_index()"
   ]
  },
  {
   "cell_type": "code",
   "execution_count": 38,
   "id": "58c251f4",
   "metadata": {},
   "outputs": [
    {
     "data": {
      "text/html": [
       "<div>\n",
       "<style scoped>\n",
       "    .dataframe tbody tr th:only-of-type {\n",
       "        vertical-align: middle;\n",
       "    }\n",
       "\n",
       "    .dataframe tbody tr th {\n",
       "        vertical-align: top;\n",
       "    }\n",
       "\n",
       "    .dataframe thead th {\n",
       "        text-align: right;\n",
       "    }\n",
       "</style>\n",
       "<table border=\"1\" class=\"dataframe\">\n",
       "  <thead>\n",
       "    <tr style=\"text-align: right;\">\n",
       "      <th></th>\n",
       "      <th>show_id</th>\n",
       "      <th>type</th>\n",
       "      <th>title</th>\n",
       "      <th>director</th>\n",
       "      <th>cast</th>\n",
       "      <th>country</th>\n",
       "      <th>date_added</th>\n",
       "      <th>release_year</th>\n",
       "      <th>rating</th>\n",
       "      <th>duration</th>\n",
       "      <th>listed_in</th>\n",
       "      <th>description</th>\n",
       "      <th>minit</th>\n",
       "    </tr>\n",
       "  </thead>\n",
       "  <tbody>\n",
       "    <tr>\n",
       "      <th>0</th>\n",
       "      <td>s1</td>\n",
       "      <td>Movie</td>\n",
       "      <td>Dick Johnson Is Dead</td>\n",
       "      <td>Kirsten Johnson</td>\n",
       "      <td>NaN</td>\n",
       "      <td>United States</td>\n",
       "      <td>September 25, 2021</td>\n",
       "      <td>2020</td>\n",
       "      <td>PG-13</td>\n",
       "      <td>90 min</td>\n",
       "      <td>Documentaries</td>\n",
       "      <td>As her father nears the end of his life, filmm...</td>\n",
       "      <td>90</td>\n",
       "    </tr>\n",
       "    <tr>\n",
       "      <th>6</th>\n",
       "      <td>s7</td>\n",
       "      <td>Movie</td>\n",
       "      <td>My Little Pony: A New Generation</td>\n",
       "      <td>Robert Cullen, José Luis Ucha</td>\n",
       "      <td>Vanessa Hudgens, Kimiko Glenn, James Marsden, ...</td>\n",
       "      <td>NaN</td>\n",
       "      <td>September 24, 2021</td>\n",
       "      <td>2021</td>\n",
       "      <td>PG</td>\n",
       "      <td>91 min</td>\n",
       "      <td>Children &amp; Family Movies</td>\n",
       "      <td>Equestria's divided. But a bright-eyed hero be...</td>\n",
       "      <td>91</td>\n",
       "    </tr>\n",
       "    <tr>\n",
       "      <th>7</th>\n",
       "      <td>s8</td>\n",
       "      <td>Movie</td>\n",
       "      <td>Sankofa</td>\n",
       "      <td>Haile Gerima</td>\n",
       "      <td>Kofi Ghanaba, Oyafunmike Ogunlano, Alexandra D...</td>\n",
       "      <td>United States, Ghana, Burkina Faso, United Kin...</td>\n",
       "      <td>September 24, 2021</td>\n",
       "      <td>1993</td>\n",
       "      <td>TV-MA</td>\n",
       "      <td>125 min</td>\n",
       "      <td>Dramas, Independent Movies, International Movies</td>\n",
       "      <td>On a photo shoot in Ghana, an American model s...</td>\n",
       "      <td>125</td>\n",
       "    </tr>\n",
       "    <tr>\n",
       "      <th>9</th>\n",
       "      <td>s10</td>\n",
       "      <td>Movie</td>\n",
       "      <td>The Starling</td>\n",
       "      <td>Theodore Melfi</td>\n",
       "      <td>Melissa McCarthy, Chris O'Dowd, Kevin Kline, T...</td>\n",
       "      <td>United States</td>\n",
       "      <td>September 24, 2021</td>\n",
       "      <td>2021</td>\n",
       "      <td>PG-13</td>\n",
       "      <td>104 min</td>\n",
       "      <td>Comedies, Dramas</td>\n",
       "      <td>A woman adjusting to life after a loss contend...</td>\n",
       "      <td>104</td>\n",
       "    </tr>\n",
       "    <tr>\n",
       "      <th>12</th>\n",
       "      <td>s13</td>\n",
       "      <td>Movie</td>\n",
       "      <td>Je Suis Karl</td>\n",
       "      <td>Christian Schwochow</td>\n",
       "      <td>Luna Wedler, Jannis Niewöhner, Milan Peschel, ...</td>\n",
       "      <td>Germany, Czech Republic</td>\n",
       "      <td>September 23, 2021</td>\n",
       "      <td>2021</td>\n",
       "      <td>TV-MA</td>\n",
       "      <td>127 min</td>\n",
       "      <td>Dramas, International Movies</td>\n",
       "      <td>After most of her family is murdered in a terr...</td>\n",
       "      <td>127</td>\n",
       "    </tr>\n",
       "    <tr>\n",
       "      <th>...</th>\n",
       "      <td>...</td>\n",
       "      <td>...</td>\n",
       "      <td>...</td>\n",
       "      <td>...</td>\n",
       "      <td>...</td>\n",
       "      <td>...</td>\n",
       "      <td>...</td>\n",
       "      <td>...</td>\n",
       "      <td>...</td>\n",
       "      <td>...</td>\n",
       "      <td>...</td>\n",
       "      <td>...</td>\n",
       "      <td>...</td>\n",
       "    </tr>\n",
       "    <tr>\n",
       "      <th>8801</th>\n",
       "      <td>s8802</td>\n",
       "      <td>Movie</td>\n",
       "      <td>Zinzana</td>\n",
       "      <td>Majid Al Ansari</td>\n",
       "      <td>Ali Suliman, Saleh Bakri, Yasa, Ali Al-Jabri, ...</td>\n",
       "      <td>United Arab Emirates, Jordan</td>\n",
       "      <td>March 9, 2016</td>\n",
       "      <td>2015</td>\n",
       "      <td>TV-MA</td>\n",
       "      <td>96 min</td>\n",
       "      <td>Dramas, International Movies, Thrillers</td>\n",
       "      <td>Recovering alcoholic Talal wakes up inside a s...</td>\n",
       "      <td>96</td>\n",
       "    </tr>\n",
       "    <tr>\n",
       "      <th>8802</th>\n",
       "      <td>s8803</td>\n",
       "      <td>Movie</td>\n",
       "      <td>Zodiac</td>\n",
       "      <td>David Fincher</td>\n",
       "      <td>Mark Ruffalo, Jake Gyllenhaal, Robert Downey J...</td>\n",
       "      <td>United States</td>\n",
       "      <td>November 20, 2019</td>\n",
       "      <td>2007</td>\n",
       "      <td>R</td>\n",
       "      <td>158 min</td>\n",
       "      <td>Cult Movies, Dramas, Thrillers</td>\n",
       "      <td>A political cartoonist, a crime reporter and a...</td>\n",
       "      <td>158</td>\n",
       "    </tr>\n",
       "    <tr>\n",
       "      <th>8804</th>\n",
       "      <td>s8805</td>\n",
       "      <td>Movie</td>\n",
       "      <td>Zombieland</td>\n",
       "      <td>Ruben Fleischer</td>\n",
       "      <td>Jesse Eisenberg, Woody Harrelson, Emma Stone, ...</td>\n",
       "      <td>United States</td>\n",
       "      <td>November 1, 2019</td>\n",
       "      <td>2009</td>\n",
       "      <td>R</td>\n",
       "      <td>88 min</td>\n",
       "      <td>Comedies, Horror Movies</td>\n",
       "      <td>Looking to survive in a world taken over by zo...</td>\n",
       "      <td>88</td>\n",
       "    </tr>\n",
       "    <tr>\n",
       "      <th>8805</th>\n",
       "      <td>s8806</td>\n",
       "      <td>Movie</td>\n",
       "      <td>Zoom</td>\n",
       "      <td>Peter Hewitt</td>\n",
       "      <td>Tim Allen, Courteney Cox, Chevy Chase, Kate Ma...</td>\n",
       "      <td>United States</td>\n",
       "      <td>January 11, 2020</td>\n",
       "      <td>2006</td>\n",
       "      <td>PG</td>\n",
       "      <td>88 min</td>\n",
       "      <td>Children &amp; Family Movies, Comedies</td>\n",
       "      <td>Dragged from civilian life, a former superhero...</td>\n",
       "      <td>88</td>\n",
       "    </tr>\n",
       "    <tr>\n",
       "      <th>8806</th>\n",
       "      <td>s8807</td>\n",
       "      <td>Movie</td>\n",
       "      <td>Zubaan</td>\n",
       "      <td>Mozez Singh</td>\n",
       "      <td>Vicky Kaushal, Sarah-Jane Dias, Raaghav Chanan...</td>\n",
       "      <td>India</td>\n",
       "      <td>March 2, 2019</td>\n",
       "      <td>2015</td>\n",
       "      <td>TV-14</td>\n",
       "      <td>111 min</td>\n",
       "      <td>Dramas, International Movies, Music &amp; Musicals</td>\n",
       "      <td>A scrappy but poor boy worms his way into a ty...</td>\n",
       "      <td>111</td>\n",
       "    </tr>\n",
       "  </tbody>\n",
       "</table>\n",
       "<p>5976 rows × 13 columns</p>\n",
       "</div>"
      ],
      "text/plain": [
       "     show_id   type                             title  \\\n",
       "0         s1  Movie              Dick Johnson Is Dead   \n",
       "6         s7  Movie  My Little Pony: A New Generation   \n",
       "7         s8  Movie                           Sankofa   \n",
       "9        s10  Movie                      The Starling   \n",
       "12       s13  Movie                      Je Suis Karl   \n",
       "...      ...    ...                               ...   \n",
       "8801   s8802  Movie                           Zinzana   \n",
       "8802   s8803  Movie                            Zodiac   \n",
       "8804   s8805  Movie                        Zombieland   \n",
       "8805   s8806  Movie                              Zoom   \n",
       "8806   s8807  Movie                            Zubaan   \n",
       "\n",
       "                           director  \\\n",
       "0                   Kirsten Johnson   \n",
       "6     Robert Cullen, José Luis Ucha   \n",
       "7                      Haile Gerima   \n",
       "9                    Theodore Melfi   \n",
       "12              Christian Schwochow   \n",
       "...                             ...   \n",
       "8801                Majid Al Ansari   \n",
       "8802                  David Fincher   \n",
       "8804                Ruben Fleischer   \n",
       "8805                   Peter Hewitt   \n",
       "8806                    Mozez Singh   \n",
       "\n",
       "                                                   cast  \\\n",
       "0                                                   NaN   \n",
       "6     Vanessa Hudgens, Kimiko Glenn, James Marsden, ...   \n",
       "7     Kofi Ghanaba, Oyafunmike Ogunlano, Alexandra D...   \n",
       "9     Melissa McCarthy, Chris O'Dowd, Kevin Kline, T...   \n",
       "12    Luna Wedler, Jannis Niewöhner, Milan Peschel, ...   \n",
       "...                                                 ...   \n",
       "8801  Ali Suliman, Saleh Bakri, Yasa, Ali Al-Jabri, ...   \n",
       "8802  Mark Ruffalo, Jake Gyllenhaal, Robert Downey J...   \n",
       "8804  Jesse Eisenberg, Woody Harrelson, Emma Stone, ...   \n",
       "8805  Tim Allen, Courteney Cox, Chevy Chase, Kate Ma...   \n",
       "8806  Vicky Kaushal, Sarah-Jane Dias, Raaghav Chanan...   \n",
       "\n",
       "                                                country          date_added  \\\n",
       "0                                         United States  September 25, 2021   \n",
       "6                                                   NaN  September 24, 2021   \n",
       "7     United States, Ghana, Burkina Faso, United Kin...  September 24, 2021   \n",
       "9                                         United States  September 24, 2021   \n",
       "12                              Germany, Czech Republic  September 23, 2021   \n",
       "...                                                 ...                 ...   \n",
       "8801                       United Arab Emirates, Jordan       March 9, 2016   \n",
       "8802                                      United States   November 20, 2019   \n",
       "8804                                      United States    November 1, 2019   \n",
       "8805                                      United States    January 11, 2020   \n",
       "8806                                              India       March 2, 2019   \n",
       "\n",
       "      release_year rating duration  \\\n",
       "0             2020  PG-13   90 min   \n",
       "6             2021     PG   91 min   \n",
       "7             1993  TV-MA  125 min   \n",
       "9             2021  PG-13  104 min   \n",
       "12            2021  TV-MA  127 min   \n",
       "...            ...    ...      ...   \n",
       "8801          2015  TV-MA   96 min   \n",
       "8802          2007      R  158 min   \n",
       "8804          2009      R   88 min   \n",
       "8805          2006     PG   88 min   \n",
       "8806          2015  TV-14  111 min   \n",
       "\n",
       "                                             listed_in  \\\n",
       "0                                        Documentaries   \n",
       "6                             Children & Family Movies   \n",
       "7     Dramas, Independent Movies, International Movies   \n",
       "9                                     Comedies, Dramas   \n",
       "12                        Dramas, International Movies   \n",
       "...                                                ...   \n",
       "8801           Dramas, International Movies, Thrillers   \n",
       "8802                    Cult Movies, Dramas, Thrillers   \n",
       "8804                           Comedies, Horror Movies   \n",
       "8805                Children & Family Movies, Comedies   \n",
       "8806    Dramas, International Movies, Music & Musicals   \n",
       "\n",
       "                                            description  minit  \n",
       "0     As her father nears the end of his life, filmm...     90  \n",
       "6     Equestria's divided. But a bright-eyed hero be...     91  \n",
       "7     On a photo shoot in Ghana, an American model s...    125  \n",
       "9     A woman adjusting to life after a loss contend...    104  \n",
       "12    After most of her family is murdered in a terr...    127  \n",
       "...                                                 ...    ...  \n",
       "8801  Recovering alcoholic Talal wakes up inside a s...     96  \n",
       "8802  A political cartoonist, a crime reporter and a...    158  \n",
       "8804  Looking to survive in a world taken over by zo...     88  \n",
       "8805  Dragged from civilian life, a former superhero...     88  \n",
       "8806  A scrappy but poor boy worms his way into a ty...    111  \n",
       "\n",
       "[5976 rows x 13 columns]"
      ]
     },
     "execution_count": 38,
     "metadata": {},
     "output_type": "execute_result"
    }
   ],
   "source": [
    "# Dealing with outliers\n",
    "df_movie[(df_movie['minit'] > 31) & (df_movie['minit'] < 200)]"
   ]
  },
  {
   "cell_type": "markdown",
   "id": "7e107d40",
   "metadata": {},
   "source": [
    "#### Using boxplot to identify outliers within numeric data"
   ]
  },
  {
   "cell_type": "code",
   "execution_count": 43,
   "id": "e0249bc3",
   "metadata": {},
   "outputs": [
    {
     "data": {
      "image/png": "[encoded data removed]",
      "text/plain": [
       "<Figure size 1000x500 with 1 Axes>"
      ]
     },
     "metadata": {},
     "output_type": "display_data"
    }
   ],
   "source": [
    "# make a boxplot with pandas\n",
    "df_movie['minit'].plot(kind='box', vert=False, color='blue',\n",
    "                        figsize=(10,5))\n",
    "\n",
    "plt.xlabel('Duration (minutes)')\n",
    "plt.show()"
   ]
  },
  {
   "cell_type": "code",
   "execution_count": 46,
   "id": "a7faceb1",
   "metadata": {},
   "outputs": [
    {
     "name": "stdout",
     "output_type": "stream",
     "text": [
      "count    6131.000000\n",
      "mean       99.528462\n",
      "std        28.369284\n",
      "min         0.000000\n",
      "25%        87.000000\n",
      "50%        98.000000\n",
      "75%       114.000000\n",
      "max       312.000000\n",
      "Name: minit, dtype: float64\n",
      "46.5\n",
      "154.5\n"
     ]
    }
   ],
   "source": [
    "# overview descriptive statitics\n",
    "# IQR = Q3-Q1\n",
    "min_boxplot = 87 - 1.5*(114 - 87) # Q1 - 1.5*IQR\n",
    "max_boxplot = 114 + 1.5*(114 - 87) # Q3 + 1.5*IQR\n",
    "\n",
    "print(df_movie['minit'].describe())\n",
    "print(min_boxplot)\n",
    "print(max_boxplot)"
   ]
  },
  {
   "cell_type": "markdown",
   "id": "be68f0c7",
   "metadata": {},
   "source": [
    "#### Using bars to identify outliers within categorical data"
   ]
  },
  {
   "cell_type": "code",
   "execution_count": 47,
   "id": "646197f2",
   "metadata": {},
   "outputs": [
    {
     "data": {
      "text/plain": [
       "<AxesSubplot:>"
      ]
     },
     "execution_count": 47,
     "metadata": {},
     "output_type": "execute_result"
    },
    {
     "data": {
      "image/png": "[encoded data removed]",
      "text/plain": [
       "<Figure size 1000x500 with 1 Axes>"
      ]
     },
     "metadata": {},
     "output_type": "display_data"
    }
   ],
   "source": [
    "# make barplot with pandas\n",
    "df_movie['rating'].value_counts().plot(kind='bar', figsize=(10,5))"
   ]
  },
  {
   "cell_type": "markdown",
   "id": "e22e8cde",
   "metadata": {},
   "source": [
    "### Text Normalization"
   ]
  },
  {
   "cell_type": "markdown",
   "id": "35534954",
   "metadata": {},
   "source": [
    "#### Dealing with inconsistent capitalization: lower(), upper(), title()"
   ]
  },
  {
   "cell_type": "code",
   "execution_count": 48,
   "id": "4495a48c",
   "metadata": {},
   "outputs": [
    {
     "name": "stderr",
     "output_type": "stream",
     "text": [
      "c:\\ProgramData\\anaconda3\\envs\\NatureInspierdAlgorithm\\lib\\site-packages\\ipykernel_launcher.py:7: SettingWithCopyWarning: \n",
      "A value is trying to be set on a copy of a slice from a DataFrame.\n",
      "Try using .loc[row_indexer,col_indexer] = value instead\n",
      "\n",
      "See the caveats in the documentation: https://pandas.pydata.org/pandas-docs/stable/user_guide/indexing.html#returning-a-view-versus-a-copy\n",
      "  import sys\n"
     ]
    },
    {
     "data": {
      "text/plain": [
       "0                   dick johnson is dead\n",
       "6       my little pony: a new generation\n",
       "7                                sankofa\n",
       "9                           the starling\n",
       "12                          je suis karl\n",
       "                      ...               \n",
       "8801                             zinzana\n",
       "8802                              zodiac\n",
       "8804                          zombieland\n",
       "8805                                zoom\n",
       "8806                              zubaan\n",
       "Name: title, Length: 6131, dtype: object"
      ]
     },
     "execution_count": 48,
     "metadata": {},
     "output_type": "execute_result"
    }
   ],
   "source": [
    "# change the case of text with the str attribute\n",
    "df_movie['title'].str.lower()\n",
    "df_movie['title'].str.upper()\n",
    "df_movie['title'].str.title()\n",
    "\n",
    "# update values\n",
    "df_movie['title'] = df_movie['title'].str.upper()\n",
    "\n",
    "# change the case of text with the apply method\n",
    "df_movie['title'].apply(lambda x:x.lower())"
   ]
  },
  {
   "cell_type": "markdown",
   "id": "fd7485ba",
   "metadata": {},
   "source": [
    "#### Remove blank spaces with strip(), lstrip(), and rstrip()"
   ]
  },
  {
   "cell_type": "code",
   "execution_count": 49,
   "id": "7a65d16f",
   "metadata": {},
   "outputs": [
    {
     "name": "stdout",
     "output_type": "stream",
     "text": [
      "Titanic    \n",
      " Titanic\n",
      "Titanic\n"
     ]
    }
   ],
   "source": [
    "# how the strip method workds\n",
    "movie_title = \" Titanic    \"\n",
    "\n",
    "# trim leading space with lstrip()\n",
    "print(movie_title.lstrip())\n",
    "# trim trailing space with rstrip()\n",
    "print(movie_title.rstrip())\n",
    "# trim leading and trailing space with strip()\n",
    "print(movie_title.strip())"
   ]
  },
  {
   "cell_type": "code",
   "execution_count": 50,
   "id": "20036791",
   "metadata": {},
   "outputs": [
    {
     "name": "stderr",
     "output_type": "stream",
     "text": [
      "c:\\ProgramData\\anaconda3\\envs\\NatureInspierdAlgorithm\\lib\\site-packages\\ipykernel_launcher.py:2: SettingWithCopyWarning: \n",
      "A value is trying to be set on a copy of a slice from a DataFrame.\n",
      "Try using .loc[row_indexer,col_indexer] = value instead\n",
      "\n",
      "See the caveats in the documentation: https://pandas.pydata.org/pandas-docs/stable/user_guide/indexing.html#returning-a-view-versus-a-copy\n",
      "  \n"
     ]
    },
    {
     "data": {
      "text/plain": [
       "0                   DICK JOHNSON IS DEAD\n",
       "6       MY LITTLE PONY: A NEW GENERATION\n",
       "7                                SANKOFA\n",
       "9                           THE STARLING\n",
       "12                          JE SUIS KARL\n",
       "                      ...               \n",
       "8801                             ZINZANA\n",
       "8802                              ZODIAC\n",
       "8804                          ZOMBIELAND\n",
       "8805                                ZOOM\n",
       "8806                              ZUBAAN\n",
       "Name: title, Length: 6131, dtype: object"
      ]
     },
     "execution_count": 50,
     "metadata": {},
     "output_type": "execute_result"
    }
   ],
   "source": [
    "# get rid of leading and trailing white spaces with the strip() method\n",
    "df_movie['title'] = df_movie['title'].str.strip()\n",
    "\n",
    "# get rid of leading and trailing white spaces with the apply method\n",
    "df_movie['title'].apply(lambda x:x.strip())"
   ]
  },
  {
   "cell_type": "markdown",
   "id": "6525353f",
   "metadata": {},
   "source": [
    "#### Replace strings with replace() or sub()"
   ]
  },
  {
   "cell_type": "code",
   "execution_count": 51,
   "id": "a7ddde36",
   "metadata": {},
   "outputs": [
    {
     "data": {
      "text/plain": [
       "0                  DICK JOHNSON IS DEAD\n",
       "6       MY LITTLE PONY A NEW GENERATION\n",
       "7                               SANKOFA\n",
       "9                          THE STARLING\n",
       "12                         JE SUIS KARL\n",
       "                     ...               \n",
       "8801                            ZINZANA\n",
       "8802                             ZODIAC\n",
       "8804                         ZOMBIELAND\n",
       "8805                               ZOOM\n",
       "8806                             ZUBAAN\n",
       "Name: title, Length: 6131, dtype: object"
      ]
     },
     "execution_count": 51,
     "metadata": {},
     "output_type": "execute_result"
    }
   ],
   "source": [
    "# remove punctuation signs with the str.replace() method and regex\n",
    "df_movie['title'].str.replace('[^\\w\\s]', '', regex=True)\n",
    "\n",
    "# remove punctuation signs with the replace() method and regex\n",
    "df_movie['title'].replace('[^\\w\\s]', '', regex=True)\n",
    "\n",
    "# difference between str.replace() and replace()\n",
    "# str.replace(): perform string or regex substitution on string data.\n",
    "# replace():  can replace any type of data\n",
    "\n",
    "# df_movie['title'].replace(1, 2, regex=True)\n",
    "# df_movie['title'].str.replace(1, 2, regex=True)\n",
    "\n",
    "# remove punctuation signs with the re.sub() function via teh apply method\n",
    "# import re\n",
    "# df_movie['title'].apply(lambda x:re.sub('[^\\w\\s]','',x))"
   ]
  }
 ],
 "metadata": {
  "kernelspec": {
   "display_name": "NatureInspierdAlgorithm",
   "language": "python",
   "name": "python3"
  },
  "language_info": {
   "codemirror_mode": {
    "name": "ipython",
    "version": 3
   },
   "file_extension": ".py",
   "mimetype": "text/x-python",
   "name": "python",
   "nbconvert_exporter": "python",
   "pygments_lexer": "ipython3",
   "version": "3.7.1"
  }
 },
 "nbformat": 4,
 "nbformat_minor": 5
}
